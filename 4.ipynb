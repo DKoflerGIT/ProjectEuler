{
 "cells": [
  {
   "cell_type": "markdown",
   "metadata": {},
   "source": [
    "#### Problem 4: Largest palindrome product\n",
    "A palindromic number reads the same both ways. The largest palindrome made from the product of two 2-digit numbers is\n",
    "$ 9009 = 91 × 99 $\n",
    "Find the largest palindrome made from the product of two 3-digit numbers."
   ]
  },
  {
   "cell_type": "code",
   "execution_count": 1,
   "metadata": {},
   "outputs": [],
   "source": [
    "def isPalindrome(m):\n",
    "    for n in range(int(len(str(m))/2)):\n",
    "        if str(m)[n] != str(m)[-(n+1)]: return False\n",
    "    return True"
   ]
  },
  {
   "cell_type": "code",
   "execution_count": 3,
   "metadata": {},
   "outputs": [
    {
     "name": "stdout",
     "output_type": "stream",
     "text": [
      "906609 913 993\n"
     ]
    }
   ],
   "source": [
    "r = 999\n",
    "pals = [[], [], []]\n",
    "\n",
    "for i in range(1, r+1):\n",
    "    for j in range(1, r):\n",
    "        num = i * j\n",
    "        if isPalindrome(num):\n",
    "            pals[0].append(i)\n",
    "            pals[1].append(j)\n",
    "            pals[2].append(num)\n",
    "\n",
    "m = max(pals[2])\n",
    "index = pals[2].index(m)\n",
    "\n",
    "print(str(m) + \" \" + str(pals[0][index])+ \" \" + str(pals[1][index]))"
   ]
  }
 ],
 "metadata": {
  "interpreter": {
   "hash": "f761d2206074d82dd8e41bd143266f9d3dcf5f45b684a45cd98ca9fdc4a46ee0"
  },
  "kernelspec": {
   "display_name": "Python 3.10.1 64-bit",
   "language": "python",
   "name": "python3"
  },
  "language_info": {
   "codemirror_mode": {
    "name": "ipython",
    "version": 3
   },
   "file_extension": ".py",
   "mimetype": "text/x-python",
   "name": "python",
   "nbconvert_exporter": "python",
   "pygments_lexer": "ipython3",
   "version": "3.10.1"
  },
  "orig_nbformat": 4
 },
 "nbformat": 4,
 "nbformat_minor": 2
}
