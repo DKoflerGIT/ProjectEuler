{
 "cells": [
  {
   "cell_type": "markdown",
   "metadata": {},
   "source": [
    "#### Problem 9: Special Pythagorean triplet\n",
    "A Pythagorean triplet is a set of three natural numbers, $ a < b < c $, for which,\n",
    "\n",
    "$ a^2 + b^2 = c^2 $\n",
    "For example, $ 3^2 + 4^2 = 9 + 16 = 25 = 5^2 $.\n",
    "\n",
    "There exists exactly one Pythagorean triplet for which $ a + b + c = 1000 $.\n",
    "Find the product $ a \\cdot b \\cdot c $."
   ]
  },
  {
   "cell_type": "code",
   "execution_count": 4,
   "metadata": {},
   "outputs": [
    {
     "name": "stdout",
     "output_type": "stream",
     "text": [
      "200 375 425\n",
      "31875000\n"
     ]
    }
   ],
   "source": [
    "import math\n",
    "perfect_squares = []\n",
    "\n",
    "for a in range(1000):\n",
    "    for b in range(a + 1, 1000):\n",
    "        c = math.sqrt(a * a + b * b)\n",
    "        if c.is_integer() and b < c and a + b + c == 1000:\n",
    "            c = int(c)\n",
    "            print(f'{a} {b} {c}')\n",
    "            print(str(a * b * c))"
   ]
  }
 ],
 "metadata": {
  "interpreter": {
   "hash": "f761d2206074d82dd8e41bd143266f9d3dcf5f45b684a45cd98ca9fdc4a46ee0"
  },
  "kernelspec": {
   "display_name": "Python 3.10.1 64-bit",
   "language": "python",
   "name": "python3"
  },
  "language_info": {
   "codemirror_mode": {
    "name": "ipython",
    "version": 3
   },
   "file_extension": ".py",
   "mimetype": "text/x-python",
   "name": "python",
   "nbconvert_exporter": "python",
   "pygments_lexer": "ipython3",
   "version": "3.10.1"
  },
  "orig_nbformat": 4
 },
 "nbformat": 4,
 "nbformat_minor": 2
}
