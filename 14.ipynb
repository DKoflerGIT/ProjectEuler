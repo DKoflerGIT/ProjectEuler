{
 "cells": [
  {
   "cell_type": "markdown",
   "metadata": {},
   "source": [
    "#### Problem 14: Longest Collatz sequence\n",
    "\n",
    "The following iterative sequence is defined for the set of positive integers:\n",
    "\n",
    "n → n/2 (n is even)\n",
    "n → 3n + 1 (n is odd)\n",
    "\n",
    "Using the rule above and starting with 13, we generate the following sequence:\n",
    "\n",
    "13 → 40 → 20 → 10 → 5 → 16 → 8 → 4 → 2 → 1\n",
    "It can be seen that this sequence (starting at 13 and finishing at 1) contains 10 terms. Although it has not been proved yet (Collatz Problem), it is thought that all starting numbers finish at 1.\n",
    "\n",
    "Which starting number, under one million, produces the longest chain?\n",
    "\n",
    "NOTE: Once the chain starts the terms are allowed to go above one million."
   ]
  },
  {
   "cell_type": "code",
   "execution_count": 6,
   "metadata": {},
   "outputs": [],
   "source": [
    "def isEven(n):\n",
    "    return True if n % 2 == 0 else False\n",
    "\n",
    "def even(n):\n",
    "    return int(n / 2)\n",
    "\n",
    "def odd(n):\n",
    "    return 3 * n + 1\n",
    "\n",
    "def collatz(n):\n",
    "    sequence = [n]\n",
    "\n",
    "    while n > 1:\n",
    "        if isEven(n): n = even(n)\n",
    "        else: n = odd(n)\n",
    "        sequence.append(n)\n",
    "    \n",
    "    return sequence"
   ]
  },
  {
   "cell_type": "code",
   "execution_count": 19,
   "metadata": {},
   "outputs": [
    {
     "name": "stdout",
     "output_type": "stream",
     "text": [
      "num: 837799\n",
      "elems in seq: 525\n"
     ]
    }
   ],
   "source": [
    "num_ls = 0\n",
    "len_ls = 0\n",
    "\n",
    "for i in range(1, 1000000):\n",
    "    seq = collatz(i)\n",
    "    l = len(seq)\n",
    "    if l > len_ls:\n",
    "        num_ls = i\n",
    "        len_ls = l\n",
    "\n",
    "print('num: ' + str(num_ls))\n",
    "print('elems in seq: ' + str(len_ls))\n"
   ]
  }
 ],
 "metadata": {
  "interpreter": {
   "hash": "f761d2206074d82dd8e41bd143266f9d3dcf5f45b684a45cd98ca9fdc4a46ee0"
  },
  "kernelspec": {
   "display_name": "Python 3.10.1 64-bit",
   "language": "python",
   "name": "python3"
  },
  "language_info": {
   "codemirror_mode": {
    "name": "ipython",
    "version": 3
   },
   "file_extension": ".py",
   "mimetype": "text/x-python",
   "name": "python",
   "nbconvert_exporter": "python",
   "pygments_lexer": "ipython3",
   "version": "3.10.1"
  },
  "orig_nbformat": 4
 },
 "nbformat": 4,
 "nbformat_minor": 2
}
