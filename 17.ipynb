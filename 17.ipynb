{
 "cells": [
  {
   "cell_type": "markdown",
   "metadata": {},
   "source": [
    "#### Problem 17: Number letter counts\n",
    "\n",
    "If the numbers 1 to 5 are written out in words: one, two, three, four, five, then there are 3 + 3 + 5 + 4 + 4 = 19 letters used in total.\n",
    "\n",
    "If all the numbers from 1 to 1000 (one thousand) inclusive were written out in words, how many letters would be used?\n",
    "\n",
    "\n",
    "**NOTE**: Do not count spaces or hyphens. For example, 342 (three hundred and forty-two) contains 23 letters and 115 (one hundred and fifteen) contains 20 letters. The use of \"and\" when writing out numbers is in compliance with British usage."
   ]
  },
  {
   "cell_type": "code",
   "execution_count": 14,
   "metadata": {},
   "outputs": [],
   "source": [
    "nums_ones = {\n",
    "    '0' : 'zero',\n",
    "    '1' : 'one',\n",
    "    '2' : 'two',\n",
    "    '3' : 'three',\n",
    "    '4' : 'four',\n",
    "    '5' : 'five',\n",
    "    '6' : 'six',\n",
    "    '7' : 'seven',\n",
    "    '8' : 'eight',\n",
    "    '9' : 'nine'\n",
    "}\n",
    "\n",
    "nums_tens = {\n",
    "    '1' : 'ten',\n",
    "    '2' : 'twenty',\n",
    "    '3' : 'thirty',\n",
    "    '4' : 'forty',\n",
    "    '5' : 'fifty',\n",
    "    '6' : 'sixty',\n",
    "    '7' : 'seventy',\n",
    "    '8' : 'eighty',\n",
    "    '9' : 'ninety'\n",
    "}\n",
    "\n",
    "nums_ten_ones = {\n",
    "    '0' : 'ten',\n",
    "    '1' : 'eleven',\n",
    "    '2' : 'twelve',\n",
    "    '3' : 'thirteen',\n",
    "    '4' : 'fourteen',\n",
    "    '5' : 'fifteen',\n",
    "    '6' : 'sixteen',\n",
    "    '7' : 'seventeen',\n",
    "    '8' : 'eighteen',\n",
    "    '9' : 'nineteen'\n",
    "}"
   ]
  },
  {
   "cell_type": "code",
   "execution_count": 30,
   "metadata": {},
   "outputs": [],
   "source": [
    "def getNumberString(n):\n",
    "    num_str = str(n)\n",
    "    length = len(num_str)\n",
    "\n",
    "    string = ''\n",
    "\n",
    "    if length >= 4:\n",
    "        string += nums_ones[num_str[-4]] + '-thousand '\n",
    "\n",
    "    if length >= 3:\n",
    "        if num_str[-3] != '0':\n",
    "            string += nums_ones[num_str[-3]] + '-hundred'\n",
    "        if num_str[-2] != '0' or num_str[-1] != '0':\n",
    "            string += ' and '\n",
    "\n",
    "    if length >= 2:\n",
    "        if num_str[-2] != '0':\n",
    "            if num_str[-2] != '1':\n",
    "                string += nums_tens[num_str[-2]]\n",
    "\n",
    "    if length >= 1:\n",
    "        if length >= 2:\n",
    "            if num_str[-2] == '1':\n",
    "                string += nums_ten_ones[num_str[-1]]\n",
    "            elif num_str[-1] != '0':\n",
    "                if num_str[-2] != '0':\n",
    "                    string += '-'\n",
    "                string += nums_ones[num_str[-1]]\n",
    "        else:\n",
    "            string += nums_ones[num_str[-1]]   \n",
    "\n",
    "    return string"
   ]
  },
  {
   "cell_type": "code",
   "execution_count": 37,
   "metadata": {},
   "outputs": [
    {
     "name": "stdout",
     "output_type": "stream",
     "text": [
      "806 eight-hundred and six\n",
      "552 five-hundred and fifty-two\n",
      "627 six-hundred and twenty-seven\n",
      "650 six-hundred and fifty\n",
      "219 two-hundred and nineteen\n",
      "88 eighty-eight\n",
      "123 one-hundred and twenty-three\n",
      "729 seven-hundred and twenty-nine\n",
      "997 nine-hundred and ninety-seven\n",
      "438 four-hundred and thirty-eight\n",
      "354 three-hundred and fifty-four\n",
      "808 eight-hundred and eight\n",
      "285 two-hundred and eighty-five\n",
      "350 three-hundred and fifty\n",
      "733 seven-hundred and thirty-three\n",
      "776 seven-hundred and seventy-six\n",
      "254 two-hundred and fifty-four\n",
      "833 eight-hundred and thirty-three\n",
      "935 nine-hundred and thirty-five\n",
      "186 one-hundred and eighty-six\n"
     ]
    }
   ],
   "source": [
    "import random as rnd\n",
    "\n",
    "for i in range(20):\n",
    "    rand = rnd.randint(1, 1000)\n",
    "    print (str(rand) + ' ' + getNumberString(rand))\n"
   ]
  },
  {
   "cell_type": "code",
   "execution_count": 38,
   "metadata": {},
   "outputs": [
    {
     "name": "stdout",
     "output_type": "stream",
     "text": [
      "21124\n"
     ]
    }
   ],
   "source": [
    "string = ''\n",
    "\n",
    "num_range = 1000\n",
    "\n",
    "for j in range(1, num_range + 1):\n",
    "    string += getNumberString(j)\n",
    "\n",
    "string = string.replace(' ', '')\n",
    "string = string.replace('-', '')\n",
    "\n",
    "print(len(string))"
   ]
  }
 ],
 "metadata": {
  "interpreter": {
   "hash": "f761d2206074d82dd8e41bd143266f9d3dcf5f45b684a45cd98ca9fdc4a46ee0"
  },
  "kernelspec": {
   "display_name": "Python 3.10.1 64-bit",
   "language": "python",
   "name": "python3"
  },
  "language_info": {
   "codemirror_mode": {
    "name": "ipython",
    "version": 3
   },
   "file_extension": ".py",
   "mimetype": "text/x-python",
   "name": "python",
   "nbconvert_exporter": "python",
   "pygments_lexer": "ipython3",
   "version": "3.10.1"
  },
  "orig_nbformat": 4
 },
 "nbformat": 4,
 "nbformat_minor": 2
}
