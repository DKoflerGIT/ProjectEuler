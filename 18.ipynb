{
 "cells": [
  {
   "cell_type": "markdown",
   "metadata": {},
   "source": [
    "#### Problem 18: Maximum path sum I\n",
    "\n",
    "By starting at the top of the triangle below and moving to adjacent numbers on the row below, the maximum total from top to bottom is 23.\n",
    "\n",
    "<center><font color='red'>3</font></center>\n",
    "<center><font color='red'>7</font> 4</center>\n",
    "<center>2 <font color='red'>4</font> 6</center>\n",
    "<center>8 5 <font color='red'>9</font> 3</center>\n",
    "\n",
    "That is, 3 + 7 + 4 + 9 = 23.\n",
    "\n",
    "Find the maximum total from top to bottom of the triangle below:\n",
    "\n",
    "<center>75</center>\n",
    "<center>95 64</center>\n",
    "<center>17 47 82</center>\n",
    "<center>18 35 87 10</center>\n",
    "<center>20 04 82 47 65</center>\n",
    "<center>19 01 23 75 03 34</center>\n",
    "<center>88 02 77 73 07 63 67</center>\n",
    "<center>99 65 04 28 06 16 70 92</center>\n",
    "<center>41 41 26 56 83 40 80 70 33</center>\n",
    "<center>41 48 72 33 47 32 37 16 94 29</center>\n",
    "<center>53 71 44 65 25 43 91 52 97 51 14</center>\n",
    "<center>70 11 33 28 77 73 17 78 39 68 17 57</center>\n",
    "<center>91 71 52 38 17 14 91 43 58 50 27 29 48</center>\n",
    "<center>63 66 04 68 89 53 67 30 73 16 69 87 40 31</center>\n",
    "<center>04 62 98 27 23 09 70 98 73 93 38 53 60 04 23</center>\n",
    "\n",
    "NOTE: As there are only 16384 routes, it is possible to solve this problem by trying every route. However, Problem 67, is the same challenge with a triangle containing one-hundred rows; it cannot be solved by brute force, and requires a clever method! ;o)"
   ]
  },
  {
   "cell_type": "code",
   "execution_count": 130,
   "metadata": {},
   "outputs": [],
   "source": [
    "from IPython.display import Markdown, display \n",
    "def printmd(string):\n",
    "    display(Markdown(string))"
   ]
  },
  {
   "cell_type": "code",
   "execution_count": 131,
   "metadata": {},
   "outputs": [],
   "source": [
    "def printTriangle(t, p = None):\n",
    "    string = ''\n",
    "    for r in range(len(t)):\n",
    "        string += '<center>'\n",
    "        for j,v in enumerate(t[r]):\n",
    "            if p is not None and j == p[r]:\n",
    "                string += f'<font color=\"red\">{v}</font> '\n",
    "            else:\n",
    "                string += f'{v} '\n",
    "        string += '</center>'\n",
    "    \n",
    "    printmd(string)"
   ]
  },
  {
   "cell_type": "code",
   "execution_count": 132,
   "metadata": {},
   "outputs": [],
   "source": [
    "# given Triangle\n",
    "import csv\n",
    "\n",
    "with open ('resources\\\\18.txt', 'r') as f:\n",
    "    triangle1 = [row for row in csv.reader(f,delimiter=' ')]"
   ]
  },
  {
   "cell_type": "code",
   "execution_count": 133,
   "metadata": {},
   "outputs": [
    {
     "data": {
      "text/markdown": [
       "<center>27 </center><center>59 100 </center><center>32 39 100 </center><center>59 86 27 31 </center><center>85 18 72 37 42 </center><center>27 42 81 19 53 32 </center><center>61 50 62 30 16 85 66 </center><center>95 54 99 90 67 69 72 90 </center><center>43 45 36 39 47 32 26 64 51 </center><center>58 54 77 31 31 85 34 94 52 40 </center><center>85 60 52 33 21 96 12 37 15 26 72 </center><center>46 45 67 44 56 62 54 14 99 83 13 20 </center><center>37 76 21 67 39 38 12 66 22 100 55 26 44 </center><center>37 44 46 50 12 65 33 67 56 70 65 26 27 39 </center><center>20 46 81 93 41 82 52 72 10 36 45 88 19 55 22 </center><center>29 42 32 85 71 53 74 33 80 39 39 73 59 33 58 70 </center><center>92 58 97 90 59 58 46 21 82 10 30 25 14 21 81 81 74 </center><center>59 67 39 14 38 69 15 12 10 67 32 47 20 43 24 89 44 72 </center><center>16 24 50 11 21 53 81 96 12 88 80 76 19 72 35 15 16 32 88 </center>"
      ],
      "text/plain": [
       "<IPython.core.display.Markdown object>"
      ]
     },
     "metadata": {},
     "output_type": "display_data"
    }
   ],
   "source": [
    "# custom Triangle\n",
    "import random as rnd\n",
    "triangle_size = 20\n",
    "\n",
    "triangle2 = []\n",
    "for i in range(0, triangle_size - 1):\n",
    "    triangle2.append([])\n",
    "    for j in range(i + 1):\n",
    "        triangle2[i].append(rnd.randint(10, 100))\n",
    "\n",
    "printTriangle(triangle2)"
   ]
  },
  {
   "cell_type": "code",
   "execution_count": 134,
   "metadata": {},
   "outputs": [
    {
     "data": {
      "text/markdown": [
       "<center><font color=\"red\">27</font> </center><center>59 <font color=\"red\">100</font> </center><center>32 39 <font color=\"red\">100</font> </center><center>59 86 27 <font color=\"red\">31</font> </center><center>85 18 72 37 <font color=\"red\">42</font> </center><center>27 42 81 19 <font color=\"red\">53</font> 32 </center><center>61 50 62 30 16 <font color=\"red\">85</font> 66 </center><center>95 54 99 90 67 69 <font color=\"red\">72</font> 90 </center><center>43 45 36 39 47 32 26 <font color=\"red\">64</font> 51 </center><center>58 54 77 31 31 85 34 <font color=\"red\">94</font> 52 40 </center><center>85 60 52 33 21 96 12 <font color=\"red\">37</font> 15 26 72 </center><center>46 45 67 44 56 62 54 14 <font color=\"red\">99</font> 83 13 20 </center><center>37 76 21 67 39 38 12 66 22 <font color=\"red\">100</font> 55 26 44 </center><center>37 44 46 50 12 65 33 67 56 <font color=\"red\">70</font> 65 26 27 39 </center><center>20 46 81 93 41 82 52 72 10 36 <font color=\"red\">45</font> 88 19 55 22 </center><center>29 42 32 85 71 53 74 33 80 39 39 <font color=\"red\">73</font> 59 33 58 70 </center><center>92 58 97 90 59 58 46 21 82 10 30 <font color=\"red\">25</font> 14 21 81 81 74 </center><center>59 67 39 14 38 69 15 12 10 67 32 <font color=\"red\">47</font> 20 43 24 89 44 72 </center><center>16 24 50 11 21 53 81 96 12 88 80 <font color=\"red\">76</font> 19 72 35 15 16 32 88 </center>"
      ],
      "text/plain": [
       "<IPython.core.display.Markdown object>"
      ]
     },
     "metadata": {},
     "output_type": "display_data"
    }
   ],
   "source": [
    "triangle = triangle2\n",
    "path = [0]\n",
    "\n",
    "for i in range(1, len(triangle)):\n",
    "    prev_index = path[i - 1]\n",
    "    path.append(prev_index if triangle[i][prev_index] > triangle[i][prev_index + 1] else prev_index + 1)\n",
    "\n",
    "printTriangle(triangle, path)"
   ]
  },
  {
   "cell_type": "code",
   "execution_count": 135,
   "metadata": {},
   "outputs": [
    {
     "data": {
      "text/plain": [
       "1240"
      ]
     },
     "execution_count": 135,
     "metadata": {},
     "output_type": "execute_result"
    }
   ],
   "source": [
    "sum = 0\n",
    "for i,p in enumerate(path):\n",
    "    sum += int(triangle[i][p])\n",
    "\n",
    "sum"
   ]
  }
 ],
 "metadata": {
  "interpreter": {
   "hash": "f761d2206074d82dd8e41bd143266f9d3dcf5f45b684a45cd98ca9fdc4a46ee0"
  },
  "kernelspec": {
   "display_name": "Python 3.10.1 64-bit",
   "language": "python",
   "name": "python3"
  },
  "language_info": {
   "codemirror_mode": {
    "name": "ipython",
    "version": 3
   },
   "file_extension": ".py",
   "mimetype": "text/x-python",
   "name": "python",
   "nbconvert_exporter": "python",
   "pygments_lexer": "ipython3",
   "version": "3.10.1"
  },
  "orig_nbformat": 4
 },
 "nbformat": 4,
 "nbformat_minor": 2
}
