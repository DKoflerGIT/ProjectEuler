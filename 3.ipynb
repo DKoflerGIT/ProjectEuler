{
 "cells": [
  {
   "cell_type": "markdown",
   "metadata": {},
   "source": [
    "#### Problem 3: Largest prime factor\n",
    "The prime factors of 13195 are 5, 7, 13 and 29.\n",
    "What is the largest prime factor of the number 600851475143 ?"
   ]
  },
  {
   "cell_type": "code",
   "execution_count": 108,
   "metadata": {},
   "outputs": [],
   "source": [
    "def isPrime(n):\n",
    "    if n in [1,2]:\n",
    "        return True\n",
    "    else:\n",
    "        for i in range(2, n):\n",
    "            if n % i == 0:\n",
    "                return False\n",
    "        return True"
   ]
  },
  {
   "cell_type": "code",
   "execution_count": 114,
   "metadata": {},
   "outputs": [],
   "source": [
    "primes = []\n",
    "for i in range(1, 10000):\n",
    "    if isPrime(i): primes.append(i)"
   ]
  },
  {
   "cell_type": "code",
   "execution_count": 111,
   "metadata": {},
   "outputs": [],
   "source": [
    "def primeFac(n):\n",
    "    pf = 0\n",
    "\n",
    "    for p in primes:\n",
    "        if p > 1 and num % p == 0:\n",
    "            pf = p\n",
    "            break\n",
    "\n",
    "    return pf"
   ]
  },
  {
   "cell_type": "code",
   "execution_count": 115,
   "metadata": {},
   "outputs": [
    {
     "name": "stdout",
     "output_type": "stream",
     "text": [
      "8462696833\n",
      "10086647\n",
      "6857\n",
      "1\n",
      "[71, 839, 1471, 6857]\n"
     ]
    }
   ],
   "source": [
    "num = 600851475143\n",
    "pfacs = []\n",
    "pfactor = 99\n",
    "\n",
    "while pfactor > 1:\n",
    "    pfactor = primeFac(num)\n",
    "    if pfactor == 0: break\n",
    "    pfacs.append(pfactor)\n",
    "    num = int(num / pfactor)\n",
    "    print(num)\n",
    "\n",
    "print(pfacs)"
   ]
  },
  {
   "cell_type": "code",
   "execution_count": 116,
   "metadata": {},
   "outputs": [
    {
     "data": {
      "text/plain": [
       "6857"
      ]
     },
     "execution_count": 116,
     "metadata": {},
     "output_type": "execute_result"
    }
   ],
   "source": [
    "max(pfacs)"
   ]
  }
 ],
 "metadata": {
  "interpreter": {
   "hash": "f761d2206074d82dd8e41bd143266f9d3dcf5f45b684a45cd98ca9fdc4a46ee0"
  },
  "kernelspec": {
   "display_name": "Python 3.10.1 64-bit",
   "language": "python",
   "name": "python3"
  },
  "language_info": {
   "codemirror_mode": {
    "name": "ipython",
    "version": 3
   },
   "file_extension": ".py",
   "mimetype": "text/x-python",
   "name": "python",
   "nbconvert_exporter": "python",
   "pygments_lexer": "ipython3",
   "version": "3.10.1"
  },
  "orig_nbformat": 4
 },
 "nbformat": 4,
 "nbformat_minor": 2
}
